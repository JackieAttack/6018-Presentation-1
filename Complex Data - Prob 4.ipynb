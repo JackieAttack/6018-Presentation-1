{
 "cells": [
  {
   "cell_type": "markdown",
   "id": "7571c0da",
   "metadata": {},
   "source": [
    "# Assignment: Complex Data Types, Question 4d - 4g"
   ]
  },
  {
   "cell_type": "markdown",
   "id": "23b906c3",
   "metadata": {},
   "source": [
    "---------"
   ]
  },
  {
   "cell_type": "markdown",
   "id": "0f87ad4f",
   "metadata": {},
   "source": [
    "### 4.a - Create a variable of type int with the value of 8"
   ]
  },
  {
   "cell_type": "code",
   "execution_count": 1,
   "id": "73a09267",
   "metadata": {},
   "outputs": [],
   "source": [
    "A = 8"
   ]
  },
  {
   "cell_type": "markdown",
   "id": "ecd0f5a0",
   "metadata": {},
   "source": [
    "### 4.b Create an empty list"
   ]
  },
  {
   "cell_type": "code",
   "execution_count": 2,
   "id": "36fd52ef",
   "metadata": {},
   "outputs": [],
   "source": [
    "B = []"
   ]
  },
  {
   "cell_type": "markdown",
   "id": "09ee90f2",
   "metadata": {},
   "source": [
    "### 4c - Using type(), add the type of 4.a to this list"
   ]
  },
  {
   "cell_type": "code",
   "execution_count": 3,
   "id": "ab81286f",
   "metadata": {},
   "outputs": [],
   "source": [
    "B.append(type(A))"
   ]
  },
  {
   "cell_type": "code",
   "execution_count": 4,
   "id": "1294856e",
   "metadata": {},
   "outputs": [
    {
     "data": {
      "text/plain": [
       "[int]"
      ]
     },
     "execution_count": 4,
     "metadata": {},
     "output_type": "execute_result"
    }
   ],
   "source": [
    "B"
   ]
  },
  {
   "cell_type": "markdown",
   "id": "4ef34cbe",
   "metadata": {},
   "source": [
    "### 4d - Add 0.39 to 4.c"
   ]
  },
  {
   "cell_type": "code",
   "execution_count": 5,
   "id": "677d2e91",
   "metadata": {},
   "outputs": [],
   "source": [
    "D = 0.39"
   ]
  },
  {
   "cell_type": "code",
   "execution_count": 6,
   "id": "d01acead",
   "metadata": {},
   "outputs": [],
   "source": [
    "B.append(D)"
   ]
  },
  {
   "cell_type": "code",
   "execution_count": 8,
   "id": "e90c70cb",
   "metadata": {},
   "outputs": [
    {
     "data": {
      "text/plain": [
       "[int, 0.39]"
      ]
     },
     "execution_count": 8,
     "metadata": {},
     "output_type": "execute_result"
    }
   ],
   "source": [
    "B"
   ]
  },
  {
   "cell_type": "markdown",
   "id": "996ef7d8",
   "metadata": {},
   "source": [
    "### 4.e append the type of 0.39 to the list"
   ]
  },
  {
   "cell_type": "code",
   "execution_count": 9,
   "id": "71292d82",
   "metadata": {},
   "outputs": [],
   "source": [
    "B.append(type(D))"
   ]
  },
  {
   "cell_type": "code",
   "execution_count": 10,
   "id": "56fc6bfd",
   "metadata": {},
   "outputs": [
    {
     "data": {
      "text/plain": [
       "[int, 0.39, float]"
      ]
     },
     "execution_count": 10,
     "metadata": {},
     "output_type": "execute_result"
    }
   ],
   "source": [
    "B"
   ]
  },
  {
   "cell_type": "markdown",
   "id": "fc402b06",
   "metadata": {},
   "source": [
    "### 4.f exponentiate to the -10, ie: 4.d^-10,(hint: there might be an artihmetic operator to do so) round it to no decimal places, and append to list."
   ]
  },
  {
   "cell_type": "code",
   "execution_count": 20,
   "id": "3588be7c",
   "metadata": {},
   "outputs": [],
   "source": [
    "F = round(D**(-10))"
   ]
  },
  {
   "cell_type": "code",
   "execution_count": 22,
   "id": "7972d363",
   "metadata": {},
   "outputs": [],
   "source": [
    "B.append(F)"
   ]
  },
  {
   "cell_type": "code",
   "execution_count": 23,
   "id": "36cfec50",
   "metadata": {},
   "outputs": [
    {
     "data": {
      "text/plain": [
       "[int, 0.39, float, 12284]"
      ]
     },
     "execution_count": 23,
     "metadata": {},
     "output_type": "execute_result"
    }
   ],
   "source": [
    "B"
   ]
  },
  {
   "cell_type": "markdown",
   "id": "59fc57d8",
   "metadata": {},
   "source": [
    "### 4.g append the type to the list"
   ]
  },
  {
   "cell_type": "code",
   "execution_count": 24,
   "id": "92994036",
   "metadata": {},
   "outputs": [],
   "source": [
    "B.append(type(F))"
   ]
  },
  {
   "cell_type": "code",
   "execution_count": 25,
   "id": "fbfc09e7",
   "metadata": {},
   "outputs": [
    {
     "data": {
      "text/plain": [
       "[int, 0.39, float, 12284, int]"
      ]
     },
     "execution_count": 25,
     "metadata": {},
     "output_type": "execute_result"
    }
   ],
   "source": [
    "B"
   ]
  },
  {
   "cell_type": "code",
   "execution_count": null,
   "id": "d6dc978d",
   "metadata": {},
   "outputs": [],
   "source": []
  }
 ],
 "metadata": {
  "kernelspec": {
   "display_name": "Python 3 (ipykernel)",
   "language": "python",
   "name": "python3"
  },
  "language_info": {
   "codemirror_mode": {
    "name": "ipython",
    "version": 3
   },
   "file_extension": ".py",
   "mimetype": "text/x-python",
   "name": "python",
   "nbconvert_exporter": "python",
   "pygments_lexer": "ipython3",
   "version": "3.9.12"
  }
 },
 "nbformat": 4,
 "nbformat_minor": 5
}
